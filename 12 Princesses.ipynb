{
 "cells": [
  {
   "cell_type": "markdown",
   "metadata": {},
   "source": [
    "### The 12 Princieses\n",
    "\n",
    "From the 12dancingprincesses.txt file. Then read the file and use the NLTK \n",
    "library to tokenize each word in the text; then remove the punctuation and \n",
    "filler words (stopwords) from the list of tokens. Lastly, get the top 10 words from the text.\n",
    "\n"
   ]
  },
  {
   "cell_type": "code",
   "execution_count": 70,
   "metadata": {},
   "outputs": [],
   "source": [
    "import nltk\n",
    "from nltk.tokenize import word_tokenize\n",
    "from nltk.tokenize import sent_tokenize\n",
    "from nltk.tokenize import TweetTokenizer\n",
    "from nltk.probability import FreqDist\n",
    "from nltk.corpus import stopwords\n",
    "from nltk.stem import WordNetLemmatizer\n",
    "from nltk.sentiment.vader import SentimentIntensityAnalyzer\n",
    "\n",
    "\n",
    "#this is sample data\n",
    "from nltk.corpus import names  \n",
    "\n",
    "from string import punctuation\n",
    "%matplotlib inline \n",
    "\n",
    "import pandas as pd"
   ]
  },
  {
   "cell_type": "code",
   "execution_count": 82,
   "metadata": {},
   "outputs": [
    {
     "data": {
      "text/plain": [
       "['THE', 'TWELVE', 'DANCING', 'PRINCESSES', 'THE']"
      ]
     },
     "execution_count": 82,
     "metadata": {},
     "output_type": "execute_result"
    }
   ],
   "source": [
    "\n",
    "dan_prncs = []\n",
    "with open(\"12dancingprincesses.txt\", 'r') as f:\n",
    "    for line in f:\n",
    "        cline = line.strip() #get rid of newline character\n",
    "\n",
    "        if cline == '': pass  #this will skip over lines that only had a newline and are now blank\n",
    "       \n",
    "        else:\n",
    "            tknls = word_tokenize(cline)\n",
    "        \n",
    "        for token in tknls:\n",
    "            dan_prncs.append(token)\n",
    "dan_prncs[:5]"
   ]
  },
  {
   "cell_type": "code",
   "execution_count": 72,
   "metadata": {},
   "outputs": [
    {
     "data": {
      "text/plain": [
       "FreqDist({'the': 138, ',': 107, 'and': 74, '.': 50, 'to': 47, ';': 35, 'he': 34, 'they': 31, '’': 31, 'of': 29, ...})"
      ]
     },
     "execution_count": 72,
     "metadata": {},
     "output_type": "execute_result"
    }
   ],
   "source": [
    "#the NLTK FreqDist gives a count for how often each part of the text occurs\n",
    "Wfreq= FreqDist(dan_prncs) # is returned as a dictionary, with a key and value (the no of occurance the word in a list)\n",
    "Wfreq"
   ]
  },
  {
   "cell_type": "code",
   "execution_count": 73,
   "metadata": {},
   "outputs": [
    {
     "data": {
      "text/plain": [
       "[('the', 138),\n",
       " (',', 107),\n",
       " ('and', 74),\n",
       " ('.', 50),\n",
       " ('to', 47),\n",
       " (';', 35),\n",
       " ('he', 34),\n",
       " ('they', 31),\n",
       " ('’', 31),\n",
       " ('of', 29)]"
      ]
     },
     "execution_count": 73,
     "metadata": {},
     "output_type": "execute_result"
    }
   ],
   "source": [
    "# to see the top 10 words in the txt\n",
    "Wfreq.most_common(10)"
   ]
  },
  {
   "cell_type": "code",
   "execution_count": 89,
   "metadata": {},
   "outputs": [
    {
     "data": {
      "text/plain": [
       "'!\"#$%&\\'()*+,-./:;<=>?@[\\\\]^_`{|}~‘,’, ’,‘,’, ’,\\'‘\\',\\'’\\''"
      ]
     },
     "execution_count": 89,
     "metadata": {},
     "output_type": "execute_result"
    }
   ],
   "source": [
    "## updating the punctuation\n",
    "new_punc= \"'‘','’'\"\n",
    "punctuation += new_punc\n",
    "punctuation"
   ]
  },
  {
   "cell_type": "code",
   "execution_count": 90,
   "metadata": {},
   "outputs": [],
   "source": [
    "## Removing the punctuation\n",
    "for token in dan_prncs:\n",
    "    if token in punctuation:\n",
    "        dan_prncs.remove(token)\n"
   ]
  },
  {
   "cell_type": "code",
   "execution_count": 91,
   "metadata": {},
   "outputs": [
    {
     "data": {
      "text/plain": [
       "1710"
      ]
     },
     "execution_count": 91,
     "metadata": {},
     "output_type": "execute_result"
    }
   ],
   "source": [
    "len(dan_prncs)"
   ]
  },
  {
   "cell_type": "code",
   "execution_count": 92,
   "metadata": {},
   "outputs": [],
   "source": [
    "# Removing list of English Stopwords from the text\n",
    "\n",
    "eng_stopwords = stopwords.words('english')\n",
    "\n",
    "count = 0\n",
    "cln_words = []\n",
    "for token in dan_prncs:\n",
    "    if token not in eng_stopwords:\n",
    "        cln_words.append(token)\n",
    "    else:\n",
    "        count+=1"
   ]
  },
  {
   "cell_type": "code",
   "execution_count": 93,
   "metadata": {},
   "outputs": [
    {
     "data": {
      "text/plain": [
       "783"
      ]
     },
     "execution_count": 93,
     "metadata": {},
     "output_type": "execute_result"
    }
   ],
   "source": [
    "len(cln_words)"
   ]
  },
  {
   "cell_type": "code",
   "execution_count": 94,
   "metadata": {},
   "outputs": [
    {
     "data": {
      "text/plain": [
       "[('soldier', 19),\n",
       " ('I', 18),\n",
       " ('princesses', 17),\n",
       " ('said', 16),\n",
       " ('king', 15),\n",
       " ('went', 11),\n",
       " ('twelve', 10),\n",
       " ('came', 10),\n",
       " ('eldest', 10),\n",
       " ('night', 8)]"
      ]
     },
     "execution_count": 94,
     "metadata": {},
     "output_type": "execute_result"
    }
   ],
   "source": [
    "# Finding the top 10 occuring words in the text.\n",
    "freq_word = FreqDist(cln_words)\n",
    "freq_word.most_common(10)"
   ]
  }
 ],
 "metadata": {
  "kernelspec": {
   "display_name": "Python 3",
   "language": "python",
   "name": "python3"
  },
  "language_info": {
   "codemirror_mode": {
    "name": "ipython",
    "version": 3
   },
   "file_extension": ".py",
   "mimetype": "text/x-python",
   "name": "python",
   "nbconvert_exporter": "python",
   "pygments_lexer": "ipython3",
   "version": "3.7.3"
  }
 },
 "nbformat": 4,
 "nbformat_minor": 2
}
